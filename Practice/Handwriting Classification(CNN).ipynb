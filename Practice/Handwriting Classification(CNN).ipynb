{
 "cells": [
  {
   "cell_type": "code",
   "execution_count": 8,
   "metadata": {},
   "outputs": [],
   "source": [
    "import pandas\n",
    "import math\n",
    "import tensorflow as tf\n",
    "from tensorflow.keras import datasets, layers, models\n",
    "import matplotlib.pyplot as plt\n",
    "import numpy as np"
   ]
  },
  {
   "cell_type": "code",
   "execution_count": 9,
   "metadata": {},
   "outputs": [],
   "source": [
    "(X_train, y_train), (X_test, y_test) = tf.keras.datasets.mnist.load_data()"
   ]
  },
  {
   "cell_type": "code",
   "execution_count": 10,
   "metadata": {},
   "outputs": [
    {
     "data": {
      "text/plain": [
       "((60000, 28, 28), (60000,), (10000, 28, 28), (10000,))"
      ]
     },
     "execution_count": 10,
     "metadata": {},
     "output_type": "execute_result"
    }
   ],
   "source": [
    "X_train.shape, y_train.shape, X_test.shape, y_test.shape"
   ]
  },
  {
   "cell_type": "code",
   "execution_count": 13,
   "metadata": {},
   "outputs": [
    {
     "data": {
      "text/plain": [
       "(28, 28)"
      ]
     },
     "execution_count": 13,
     "metadata": {},
     "output_type": "execute_result"
    }
   ],
   "source": [
    "X_train[0].shape"
   ]
  },
  {
   "cell_type": "code",
   "execution_count": 14,
   "metadata": {},
   "outputs": [],
   "source": [
    "X_train = X_train/255\n",
    "X_test = X_test/255"
   ]
  },
  {
   "cell_type": "markdown",
   "metadata": {},
   "source": [
    "The problem is input_shape.\n",
    "\n",
    "It should actually contain 3 dimensions only. And internally keras will add the batch dimension making it 4.\n",
    "\n",
    "Since you probably used input_shape with 4 dimensions (batch included), keras is adding the 5th.\n",
    "\n",
    "You should use input_shape=(28,28,1).\n",
    "\n",
    "so, we need to reshape it to (28, 28, 1).\n",
    "\n",
    "1 - indicates that its a grayscale image.\n",
    "\n"
   ]
  },
  {
   "cell_type": "code",
   "execution_count": 35,
   "metadata": {},
   "outputs": [],
   "source": [
    "X_train = X_train.reshape(X_train.shape[0], 28, 28, 1)\n",
    "X_test = X_test.reshape(X_test.shape[0], 28, 28, 1)"
   ]
  },
  {
   "cell_type": "code",
   "execution_count": 36,
   "metadata": {},
   "outputs": [],
   "source": [
    "cnn = models.Sequential()\n",
    "cnn.add(layers.Conv2D(filters=28, kernel_size=(4, 4), activation='relu', input_shape=(28, 28, 1)))\n",
    "cnn.add(layers.MaxPooling2D((2, 2)))\n",
    "\n",
    "cnn.add(layers.Conv2D(filters=56, kernel_size=(4, 4), activation='relu'))\n",
    "cnn.add(layers.MaxPooling2D((2, 2)))\n",
    "\n",
    "cnn.add(layers.Flatten())\n",
    "cnn.add(layers.Dense(64, activation='relu'))\n",
    "cnn.add(layers.Dense(10, activation='softmax'))\n",
    "\n",
    "cnn.compile(optimizer='adam', loss='sparse_categorical_crossentropy', metrics=['accuracy'])"
   ]
  },
  {
   "cell_type": "code",
   "execution_count": 37,
   "metadata": {},
   "outputs": [
    {
     "name": "stdout",
     "output_type": "stream",
     "text": [
      "Epoch 1/10\n",
      "1875/1875 [==============================] - 38s 16ms/step - loss: 0.1425 - accuracy: 0.9564\n",
      "Epoch 2/10\n",
      "1875/1875 [==============================] - 30s 16ms/step - loss: 0.0464 - accuracy: 0.9860\n",
      "Epoch 3/10\n",
      "1875/1875 [==============================] - 31s 17ms/step - loss: 0.0337 - accuracy: 0.9898\n",
      "Epoch 4/10\n",
      "1875/1875 [==============================] - 30s 16ms/step - loss: 0.0240 - accuracy: 0.9926\n",
      "Epoch 5/10\n",
      "1875/1875 [==============================] - 29s 16ms/step - loss: 0.0193 - accuracy: 0.9940\n",
      "Epoch 6/10\n",
      "1875/1875 [==============================] - 29s 16ms/step - loss: 0.0144 - accuracy: 0.9952\n",
      "Epoch 7/10\n",
      "1875/1875 [==============================] - 29s 16ms/step - loss: 0.0134 - accuracy: 0.9953\n",
      "Epoch 8/10\n",
      "1875/1875 [==============================] - 29s 16ms/step - loss: 0.0102 - accuracy: 0.9968\n",
      "Epoch 9/10\n",
      "1875/1875 [==============================] - 29s 15ms/step - loss: 0.0084 - accuracy: 0.9974\n",
      "Epoch 10/10\n",
      "1875/1875 [==============================] - 29s 15ms/step - loss: 0.0083 - accuracy: 0.9972\n"
     ]
    },
    {
     "data": {
      "text/plain": [
       "<keras.callbacks.History at 0x232d830ba48>"
      ]
     },
     "execution_count": 37,
     "metadata": {},
     "output_type": "execute_result"
    }
   ],
   "source": [
    "cnn.fit(X_train, y_train, epochs=10)"
   ]
  },
  {
   "cell_type": "code",
   "execution_count": 41,
   "metadata": {},
   "outputs": [
    {
     "name": "stdout",
     "output_type": "stream",
     "text": [
      "313/313 [==============================] - 3s 7ms/step - loss: 0.0275 - accuracy: 0.9926\n"
     ]
    },
    {
     "data": {
      "text/plain": [
       "[0.02752298302948475, 0.9926000237464905]"
      ]
     },
     "execution_count": 41,
     "metadata": {},
     "output_type": "execute_result"
    }
   ],
   "source": [
    "cnn.evaluate(X_test, y_test)"
   ]
  },
  {
   "cell_type": "code",
   "execution_count": 44,
   "metadata": {},
   "outputs": [
    {
     "data": {
      "text/plain": [
       "array([[9.4203183e-14, 6.7570407e-12, 1.4158801e-08, ..., 1.0000000e+00,\n",
       "        6.8816324e-15, 5.9513443e-11],\n",
       "       [4.4867079e-12, 7.2228941e-17, 1.0000000e+00, ..., 1.1971285e-19,\n",
       "        1.2475262e-08, 2.1571281e-19],\n",
       "       [1.1117641e-09, 9.9999940e-01, 2.8724075e-11, ..., 1.2271114e-07,\n",
       "        9.8888108e-08, 3.8861986e-10],\n",
       "       ...,\n",
       "       [2.2705702e-21, 4.1326036e-14, 1.7763041e-16, ..., 1.5561459e-13,\n",
       "        6.0251704e-12, 9.5878211e-16],\n",
       "       [1.7614264e-15, 1.5827051e-18, 3.1744959e-20, ..., 6.3943502e-16,\n",
       "        8.8690377e-10, 2.1109733e-10],\n",
       "       [1.0009393e-14, 2.9003687e-16, 2.1208060e-16, ..., 2.1067552e-20,\n",
       "        1.7784669e-16, 8.5417669e-19]], dtype=float32)"
      ]
     },
     "execution_count": 44,
     "metadata": {},
     "output_type": "execute_result"
    }
   ],
   "source": [
    "y_pred = cnn.predict(X_test)\n",
    "y_pred"
   ]
  },
  {
   "cell_type": "code",
   "execution_count": 46,
   "metadata": {},
   "outputs": [
    {
     "data": {
      "text/plain": [
       "<matplotlib.image.AxesImage at 0x232dbe1bdc8>"
      ]
     },
     "execution_count": 46,
     "metadata": {},
     "output_type": "execute_result"
    },
    {
     "data": {
      "image/png": "[encoded data removed]",
      "text/plain": [
       "<Figure size 432x288 with 1 Axes>"
      ]
     },
     "metadata": {
      "needs_background": "light"
     },
     "output_type": "display_data"
    }
   ],
   "source": [
    "# Plotting the first image\n",
    "plt.imshow(X_test[0].reshape(28, 28), cmap='gray')"
   ]
  },
  {
   "cell_type": "code",
   "execution_count": 47,
   "metadata": {},
   "outputs": [
    {
     "data": {
      "text/plain": [
       "array([7, 2, 1, ..., 4, 5, 6], dtype=int64)"
      ]
     },
     "execution_count": 47,
     "metadata": {},
     "output_type": "execute_result"
    }
   ],
   "source": [
    "# find max in every row\n",
    "y_pred = np.argmax(y_pred, axis=1)\n",
    "y_pred"
   ]
  },
  {
   "cell_type": "code",
   "execution_count": 49,
   "metadata": {},
   "outputs": [],
   "source": [
    "# construct a confusion matrix\n",
    "confusion_matrix = tf.math.confusion_matrix(y_test, y_pred)"
   ]
  },
  {
   "cell_type": "code",
   "execution_count": 50,
   "metadata": {},
   "outputs": [
    {
     "data": {
      "text/plain": [
       "<tf.Tensor: shape=(10, 10), dtype=int32, numpy=\n",
       "array([[ 974,    0,    1,    0,    1,    1,    0,    1,    2,    0],\n",
       "       [   1, 1128,    0,    0,    1,    0,    2,    1,    1,    1],\n",
       "       [   0,    0, 1023,    0,    0,    0,    2,    6,    1,    0],\n",
       "       [   0,    1,    1, 1004,    0,    3,    0,    0,    1,    0],\n",
       "       [   0,    0,    1,    0,  977,    0,    2,    0,    0,    2],\n",
       "       [   0,    0,    0,    6,    0,  883,    1,    1,    0,    1],\n",
       "       [   1,    1,    0,    0,    1,    3,  950,    0,    2,    0],\n",
       "       [   1,    2,    1,    0,    0,    0,    0, 1023,    0,    1],\n",
       "       [   0,    0,    2,    0,    0,    2,    0,    0,  969,    1],\n",
       "       [   1,    0,    0,    0,    4,    4,    0,    3,    2,  995]])>"
      ]
     },
     "execution_count": 50,
     "metadata": {},
     "output_type": "execute_result"
    }
   ],
   "source": [
    "confusion_matrix"
   ]
  },
  {
   "cell_type": "code",
   "execution_count": 56,
   "metadata": {},
   "outputs": [
    {
     "name": "stdout",
     "output_type": "stream",
     "text": [
      "313/313 [==============================] - 2s 7ms/step - loss: 0.0275 - accuracy: 0.9926\n",
      "Accuracy: 99.26000237464905\n"
     ]
    }
   ],
   "source": [
    "# print the accuracy of the cnn model\n",
    "print(\"Accuracy: \" + str(cnn.evaluate(X_test, y_test)[1]*100))"
   ]
  },
  {
   "cell_type": "code",
   "execution_count": null,
   "metadata": {},
   "outputs": [],
   "source": []
  }
 ],
 "metadata": {
  "interpreter": {
   "hash": "f04500d8b91e362b0082c4fdd322d5d5d9540d13200024b86d78e7daf6d8bf4b"
  },
  "kernelspec": {
   "display_name": "Python 3.7.6 64-bit ('base': conda)",
   "name": "python3"
  },
  "language_info": {
   "codemirror_mode": {
    "name": "ipython",
    "version": 3
   },
   "file_extension": ".py",
   "mimetype": "text/x-python",
   "name": "python",
   "nbconvert_exporter": "python",
   "pygments_lexer": "ipython3",
   "version": "3.7.6"
  },
  "orig_nbformat": 4
 },
 "nbformat": 4,
 "nbformat_minor": 2
}

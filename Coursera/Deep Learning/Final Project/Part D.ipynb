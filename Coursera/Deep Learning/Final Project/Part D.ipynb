{
 "cells": [
  {
   "cell_type": "code",
   "execution_count": 1,
   "metadata": {},
   "outputs": [],
   "source": [
    "import keras\n",
    "from keras.models import Sequential\n",
    "from keras.layers import Dense\n",
    "from sklearn.model_selection import train_test_split\n",
    "import numpy as np\n",
    "import pandas as pd\n",
    "from sklearn.metrics import mean_squared_error\n"
   ]
  },
  {
   "cell_type": "code",
   "execution_count": 2,
   "metadata": {},
   "outputs": [
    {
     "data": {
      "text/html": [
       "<div>\n",
       "<style scoped>\n",
       "    .dataframe tbody tr th:only-of-type {\n",
       "        vertical-align: middle;\n",
       "    }\n",
       "\n",
       "    .dataframe tbody tr th {\n",
       "        vertical-align: top;\n",
       "    }\n",
       "\n",
       "    .dataframe thead th {\n",
       "        text-align: right;\n",
       "    }\n",
       "</style>\n",
       "<table border=\"1\" class=\"dataframe\">\n",
       "  <thead>\n",
       "    <tr style=\"text-align: right;\">\n",
       "      <th></th>\n",
       "      <th>Cement</th>\n",
       "      <th>Blast Furnace Slag</th>\n",
       "      <th>Fly Ash</th>\n",
       "      <th>Water</th>\n",
       "      <th>Superplasticizer</th>\n",
       "      <th>Coarse Aggregate</th>\n",
       "      <th>Fine Aggregate</th>\n",
       "      <th>Age</th>\n",
       "      <th>Strength</th>\n",
       "    </tr>\n",
       "  </thead>\n",
       "  <tbody>\n",
       "    <tr>\n",
       "      <th>0</th>\n",
       "      <td>540.0</td>\n",
       "      <td>0.0</td>\n",
       "      <td>0.0</td>\n",
       "      <td>162.0</td>\n",
       "      <td>2.5</td>\n",
       "      <td>1040.0</td>\n",
       "      <td>676.0</td>\n",
       "      <td>28</td>\n",
       "      <td>79.99</td>\n",
       "    </tr>\n",
       "    <tr>\n",
       "      <th>1</th>\n",
       "      <td>540.0</td>\n",
       "      <td>0.0</td>\n",
       "      <td>0.0</td>\n",
       "      <td>162.0</td>\n",
       "      <td>2.5</td>\n",
       "      <td>1055.0</td>\n",
       "      <td>676.0</td>\n",
       "      <td>28</td>\n",
       "      <td>61.89</td>\n",
       "    </tr>\n",
       "    <tr>\n",
       "      <th>2</th>\n",
       "      <td>332.5</td>\n",
       "      <td>142.5</td>\n",
       "      <td>0.0</td>\n",
       "      <td>228.0</td>\n",
       "      <td>0.0</td>\n",
       "      <td>932.0</td>\n",
       "      <td>594.0</td>\n",
       "      <td>270</td>\n",
       "      <td>40.27</td>\n",
       "    </tr>\n",
       "    <tr>\n",
       "      <th>3</th>\n",
       "      <td>332.5</td>\n",
       "      <td>142.5</td>\n",
       "      <td>0.0</td>\n",
       "      <td>228.0</td>\n",
       "      <td>0.0</td>\n",
       "      <td>932.0</td>\n",
       "      <td>594.0</td>\n",
       "      <td>365</td>\n",
       "      <td>41.05</td>\n",
       "    </tr>\n",
       "    <tr>\n",
       "      <th>4</th>\n",
       "      <td>198.6</td>\n",
       "      <td>132.4</td>\n",
       "      <td>0.0</td>\n",
       "      <td>192.0</td>\n",
       "      <td>0.0</td>\n",
       "      <td>978.4</td>\n",
       "      <td>825.5</td>\n",
       "      <td>360</td>\n",
       "      <td>44.30</td>\n",
       "    </tr>\n",
       "  </tbody>\n",
       "</table>\n",
       "</div>"
      ],
      "text/plain": [
       "   Cement  Blast Furnace Slag  Fly Ash  Water  Superplasticizer  \\\n",
       "0   540.0                 0.0      0.0  162.0               2.5   \n",
       "1   540.0                 0.0      0.0  162.0               2.5   \n",
       "2   332.5               142.5      0.0  228.0               0.0   \n",
       "3   332.5               142.5      0.0  228.0               0.0   \n",
       "4   198.6               132.4      0.0  192.0               0.0   \n",
       "\n",
       "   Coarse Aggregate  Fine Aggregate  Age  Strength  \n",
       "0            1040.0           676.0   28     79.99  \n",
       "1            1055.0           676.0   28     61.89  \n",
       "2             932.0           594.0  270     40.27  \n",
       "3             932.0           594.0  365     41.05  \n",
       "4             978.4           825.5  360     44.30  "
      ]
     },
     "execution_count": 2,
     "metadata": {},
     "output_type": "execute_result"
    }
   ],
   "source": [
    "concrete_data = pd.read_csv('https://cocl.us/concrete_data')\n",
    "concrete_data.head()\n"
   ]
  },
  {
   "cell_type": "code",
   "execution_count": 3,
   "metadata": {},
   "outputs": [],
   "source": [
    "X_train, X_test, y_train, y_test = train_test_split(\n",
    "    concrete_data.iloc[:, :-1], concrete_data['Strength'], test_size=0.3, random_state=42)\n"
   ]
  },
  {
   "cell_type": "code",
   "execution_count": 4,
   "metadata": {},
   "outputs": [],
   "source": [
    "X_train_scaled = X_train.copy()\n",
    "X_train_scaled = (X_train_scaled - X_train_scaled.mean()) / X_train_scaled.std()\n",
    "\n",
    "X_test_scaled = X_test.copy()\n",
    "X_test_scaled = (X_test_scaled - X_test_scaled.mean()) / X_test_scaled.std()\n"
   ]
  },
  {
   "cell_type": "code",
   "execution_count": 5,
   "metadata": {},
   "outputs": [
    {
     "name": "stdout",
     "output_type": "stream",
     "text": [
      "Epoch 1/50\n",
      "23/23 [==============================] - 1s 3ms/step - loss: 1600.8849\n",
      "Epoch 2/50\n",
      "23/23 [==============================] - 0s 2ms/step - loss: 1589.7358\n",
      "Epoch 3/50\n",
      "23/23 [==============================] - 0s 2ms/step - loss: 1580.3091\n",
      "Epoch 4/50\n",
      "23/23 [==============================] - 0s 2ms/step - loss: 1568.1980\n",
      "Epoch 5/50\n",
      "23/23 [==============================] - 0s 2ms/step - loss: 1548.3057\n",
      "Epoch 6/50\n",
      "23/23 [==============================] - 0s 1ms/step - loss: 1517.4865\n",
      "Epoch 7/50\n",
      "23/23 [==============================] - 0s 1ms/step - loss: 1473.0878\n",
      "Epoch 8/50\n",
      "23/23 [==============================] - 0s 1ms/step - loss: 1408.8833\n",
      "Epoch 9/50\n",
      "23/23 [==============================] - 0s 2ms/step - loss: 1316.0731\n",
      "Epoch 10/50\n",
      "23/23 [==============================] - 0s 1ms/step - loss: 1186.2344\n",
      "Epoch 11/50\n",
      "23/23 [==============================] - 0s 1ms/step - loss: 1016.0966\n",
      "Epoch 12/50\n",
      "23/23 [==============================] - 0s 2ms/step - loss: 809.8236\n",
      "Epoch 13/50\n",
      "23/23 [==============================] - 0s 1ms/step - loss: 600.4437\n",
      "Epoch 14/50\n",
      "23/23 [==============================] - 0s 2ms/step - loss: 424.1496\n",
      "Epoch 15/50\n",
      "23/23 [==============================] - 0s 2ms/step - loss: 322.8904\n",
      "Epoch 16/50\n",
      "23/23 [==============================] - 0s 2ms/step - loss: 276.0685\n",
      "Epoch 17/50\n",
      "23/23 [==============================] - 0s 2ms/step - loss: 254.8373\n",
      "Epoch 18/50\n",
      "23/23 [==============================] - 0s 1ms/step - loss: 240.1137\n",
      "Epoch 19/50\n",
      "23/23 [==============================] - 0s 2ms/step - loss: 228.0349\n",
      "Epoch 20/50\n",
      "23/23 [==============================] - 0s 1ms/step - loss: 218.8605\n",
      "Epoch 21/50\n",
      "23/23 [==============================] - 0s 1ms/step - loss: 210.1616\n",
      "Epoch 22/50\n",
      "23/23 [==============================] - 0s 1ms/step - loss: 203.4678\n",
      "Epoch 23/50\n",
      "23/23 [==============================] - 0s 1ms/step - loss: 197.3298\n",
      "Epoch 24/50\n",
      "23/23 [==============================] - 0s 3ms/step - loss: 192.4740\n",
      "Epoch 25/50\n",
      "23/23 [==============================] - 0s 2ms/step - loss: 187.7721\n",
      "Epoch 26/50\n",
      "23/23 [==============================] - 0s 1ms/step - loss: 183.7558\n",
      "Epoch 27/50\n",
      "23/23 [==============================] - 0s 1ms/step - loss: 179.9024\n",
      "Epoch 28/50\n",
      "23/23 [==============================] - 0s 1ms/step - loss: 176.2932\n",
      "Epoch 29/50\n",
      "23/23 [==============================] - 0s 1ms/step - loss: 173.1840\n",
      "Epoch 30/50\n",
      "23/23 [==============================] - 0s 1ms/step - loss: 170.2571\n",
      "Epoch 31/50\n",
      "23/23 [==============================] - 0s 2ms/step - loss: 167.3255\n",
      "Epoch 32/50\n",
      "23/23 [==============================] - 0s 2ms/step - loss: 164.4896\n",
      "Epoch 33/50\n",
      "23/23 [==============================] - 0s 2ms/step - loss: 162.7466\n",
      "Epoch 34/50\n",
      "23/23 [==============================] - 0s 2ms/step - loss: 159.5071\n",
      "Epoch 35/50\n",
      "23/23 [==============================] - 0s 1ms/step - loss: 157.7625\n",
      "Epoch 36/50\n",
      "23/23 [==============================] - 0s 1ms/step - loss: 155.2174\n",
      "Epoch 37/50\n",
      "23/23 [==============================] - 0s 1ms/step - loss: 152.8729\n",
      "Epoch 38/50\n",
      "23/23 [==============================] - 0s 2ms/step - loss: 150.9632\n",
      "Epoch 39/50\n",
      "23/23 [==============================] - 0s 2ms/step - loss: 148.8395\n",
      "Epoch 40/50\n",
      "23/23 [==============================] - 0s 2ms/step - loss: 147.0198\n",
      "Epoch 41/50\n",
      "23/23 [==============================] - 0s 2ms/step - loss: 145.2546\n",
      "Epoch 42/50\n",
      "23/23 [==============================] - 0s 3ms/step - loss: 143.5562\n",
      "Epoch 43/50\n",
      "23/23 [==============================] - 0s 2ms/step - loss: 142.1265\n",
      "Epoch 44/50\n",
      "23/23 [==============================] - 0s 2ms/step - loss: 140.7520\n",
      "Epoch 45/50\n",
      "23/23 [==============================] - 0s 2ms/step - loss: 138.9417\n",
      "Epoch 46/50\n",
      "23/23 [==============================] - 0s 2ms/step - loss: 137.7855\n",
      "Epoch 47/50\n",
      "23/23 [==============================] - 0s 2ms/step - loss: 136.5618\n",
      "Epoch 48/50\n",
      "23/23 [==============================] - 0s 2ms/step - loss: 135.4203\n",
      "Epoch 49/50\n",
      "23/23 [==============================] - 0s 2ms/step - loss: 134.3226\n",
      "Epoch 50/50\n",
      "23/23 [==============================] - 0s 2ms/step - loss: 133.3451\n"
     ]
    },
    {
     "data": {
      "text/plain": [
       "<keras.callbacks.History at 0x223bcf02b08>"
      ]
     },
     "execution_count": 5,
     "metadata": {},
     "output_type": "execute_result"
    }
   ],
   "source": [
    "model = Sequential()\n",
    "model.add(Dense(10, input_shape=(8,), activation='relu'))\n",
    "model.add(Dense(10, activation='relu'))\n",
    "model.add(Dense(10, activation='relu'))\n",
    "model.add(Dense(1))\n",
    "\n",
    "model.compile(loss='mean_squared_error', optimizer='adam')\n",
    "\n",
    "model.fit(X_train_scaled, y_train, epochs=50)\n"
   ]
  },
  {
   "cell_type": "code",
   "execution_count": 6,
   "metadata": {},
   "outputs": [
    {
     "name": "stdout",
     "output_type": "stream",
     "text": [
      "10/10 [==============================] - 0s 2ms/step - loss: 134.3704\n"
     ]
    },
    {
     "data": {
      "text/plain": [
       "134.3704376220703"
      ]
     },
     "execution_count": 6,
     "metadata": {},
     "output_type": "execute_result"
    }
   ],
   "source": [
    "model.evaluate(X_test_scaled, y_test)\n"
   ]
  },
  {
   "cell_type": "code",
   "execution_count": 7,
   "metadata": {},
   "outputs": [
    {
     "name": "stdout",
     "output_type": "stream",
     "text": [
      "Mean: 134.37043644953937 STD: 0.0\n"
     ]
    }
   ],
   "source": [
    "y_pred = model.predict(X_test_scaled)\n",
    "mean_square_error = mean_squared_error(y_test, y_pred)\n",
    "mean = np.mean(mean_square_error)\n",
    "standard_deviation = np.std(mean_square_error)\n",
    "print(\"Mean: \" + str(mean), \"STD: \" + str(standard_deviation))\n"
   ]
  },
  {
   "cell_type": "code",
   "execution_count": 8,
   "metadata": {},
   "outputs": [
    {
     "name": "stdout",
     "output_type": "stream",
     "text": [
      "MSE 1: 96.9230728149414\n",
      "MSE 2: 76.90022277832031\n",
      "MSE 3: 41.546504974365234\n",
      "MSE 4: 39.88276290893555\n",
      "MSE 5: 48.989131927490234\n",
      "MSE 6: 47.3553466796875\n",
      "MSE 7: 49.39133834838867\n",
      "MSE 8: 31.37565040588379\n",
      "MSE 9: 32.93167495727539\n",
      "MSE 10: 36.780242919921875\n",
      "MSE 11: 31.892471313476562\n",
      "MSE 12: 30.387441635131836\n",
      "MSE 13: 30.69400405883789\n",
      "MSE 14: 34.25901794433594\n",
      "MSE 15: 26.983312606811523\n",
      "MSE 16: 26.797929763793945\n",
      "MSE 17: 32.73554992675781\n",
      "MSE 18: 30.85852813720703\n",
      "MSE 19: 31.852210998535156\n",
      "MSE 20: 29.394203186035156\n",
      "MSE 21: 28.838661193847656\n",
      "MSE 22: 30.39285659790039\n",
      "MSE 23: 24.375459671020508\n",
      "MSE 24: 26.08513832092285\n",
      "MSE 25: 30.083810806274414\n",
      "MSE 26: 31.45282745361328\n",
      "MSE 27: 26.200408935546875\n",
      "MSE 28: 25.411029815673828\n",
      "MSE 29: 28.3876953125\n",
      "MSE 30: 31.90260887145996\n",
      "MSE 31: 22.556238174438477\n",
      "MSE 32: 23.9397029876709\n",
      "MSE 33: 22.628604888916016\n",
      "MSE 34: 25.812471389770508\n",
      "MSE 35: 27.098609924316406\n",
      "MSE 36: 31.254730224609375\n",
      "MSE 37: 20.620525360107422\n",
      "MSE 38: 29.571535110473633\n",
      "MSE 39: 28.46580696105957\n",
      "MSE 40: 24.405574798583984\n",
      "MSE 41: 28.802692413330078\n",
      "MSE 42: 26.999082565307617\n",
      "MSE 43: 35.186893463134766\n",
      "MSE 44: 30.933305740356445\n",
      "MSE 45: 27.591127395629883\n",
      "MSE 46: 24.288135528564453\n",
      "MSE 47: 27.997180938720703\n",
      "MSE 48: 22.93985366821289\n",
      "MSE 49: 30.218027114868164\n",
      "MSE 50: 23.570585250854492\n",
      "\n",
      "\n",
      "Below is the mean and standard deviation of 50 mean squared errors with normalized data. Total number of epochs for each training is: 50\n",
      "\n",
      "Mean: 32.51883527206398\n",
      "Standard Deviation: 12.884165726410899\n"
     ]
    }
   ],
   "source": [
    "total_mean_squared_errors = 50\n",
    "epochs = 50\n",
    "mean_squared_errors = []\n",
    "for i in range(0, total_mean_squared_errors):\n",
    "    X_train, X_test, y_train, y_test = train_test_split(\n",
    "        concrete_data.iloc[:, :-1], concrete_data['Strength'], test_size=0.3, random_state=i)\n",
    "    X_train = (X_train - X_train.mean()) / X_train.std()\n",
    "    X_test = (X_test - X_test.mean()) / X_test.std()\n",
    "    model.fit(X_train, y_train, epochs=epochs, verbose=0)\n",
    "    MSE = model.evaluate(X_test, y_test, verbose=0)\n",
    "    print(\"MSE \"+str(i+1)+\": \"+str(MSE))\n",
    "    y_pred = model.predict(X_test)\n",
    "    mean_square_error = mean_squared_error(y_test, y_pred)\n",
    "    mean_squared_errors.append(mean_square_error)\n",
    "\n",
    "mean_squared_errors = np.array(mean_squared_errors)\n",
    "mean = np.mean(mean_squared_errors)\n",
    "standard_deviation = np.std(mean_squared_errors)\n",
    "\n",
    "print('\\n')\n",
    "print(\"Below is the mean and standard deviation of \" + str(total_mean_squared_errors) +\n",
    "      \" mean squared errors with normalized data. Total number of epochs for each training is: \" + str(epochs) + \"\\n\")\n",
    "print(\"Mean: \"+str(mean))\n",
    "print(\"Standard Deviation: \"+str(standard_deviation))\n"
   ]
  },
  {
   "cell_type": "markdown",
   "metadata": {},
   "source": [
    "<h4>The Mean  smaller compared to the previous results(Part B).<h4>"
   ]
  },
  {
   "cell_type": "code",
   "execution_count": null,
   "metadata": {},
   "outputs": [],
   "source": []
  }
 ],
 "metadata": {
  "interpreter": {
   "hash": "f04500d8b91e362b0082c4fdd322d5d5d9540d13200024b86d78e7daf6d8bf4b"
  },
  "kernelspec": {
   "display_name": "Python 3.7.6 64-bit ('base': conda)",
   "name": "python3"
  },
  "language_info": {
   "codemirror_mode": {
    "name": "ipython",
    "version": 3
   },
   "file_extension": ".py",
   "mimetype": "text/x-python",
   "name": "python",
   "nbconvert_exporter": "python",
   "pygments_lexer": "ipython3",
   "version": "3.7.6"
  },
  "orig_nbformat": 4
 },
 "nbformat": 4,
 "nbformat_minor": 2
}

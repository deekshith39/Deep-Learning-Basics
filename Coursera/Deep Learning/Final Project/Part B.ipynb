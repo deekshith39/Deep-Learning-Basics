{
 "cells": [
  {
   "cell_type": "code",
   "execution_count": 14,
   "metadata": {},
   "outputs": [],
   "source": [
    "import keras\n",
    "from keras.models import Sequential\n",
    "from keras.layers import Dense\n",
    "from sklearn.model_selection import train_test_split\n",
    "import numpy as np\n",
    "import pandas as pd\n",
    "from sklearn.metrics import mean_squared_error\n"
   ]
  },
  {
   "cell_type": "code",
   "execution_count": 15,
   "metadata": {},
   "outputs": [
    {
     "data": {
      "text/html": [
       "<div>\n",
       "<style scoped>\n",
       "    .dataframe tbody tr th:only-of-type {\n",
       "        vertical-align: middle;\n",
       "    }\n",
       "\n",
       "    .dataframe tbody tr th {\n",
       "        vertical-align: top;\n",
       "    }\n",
       "\n",
       "    .dataframe thead th {\n",
       "        text-align: right;\n",
       "    }\n",
       "</style>\n",
       "<table border=\"1\" class=\"dataframe\">\n",
       "  <thead>\n",
       "    <tr style=\"text-align: right;\">\n",
       "      <th></th>\n",
       "      <th>Cement</th>\n",
       "      <th>Blast Furnace Slag</th>\n",
       "      <th>Fly Ash</th>\n",
       "      <th>Water</th>\n",
       "      <th>Superplasticizer</th>\n",
       "      <th>Coarse Aggregate</th>\n",
       "      <th>Fine Aggregate</th>\n",
       "      <th>Age</th>\n",
       "      <th>Strength</th>\n",
       "    </tr>\n",
       "  </thead>\n",
       "  <tbody>\n",
       "    <tr>\n",
       "      <th>0</th>\n",
       "      <td>540.0</td>\n",
       "      <td>0.0</td>\n",
       "      <td>0.0</td>\n",
       "      <td>162.0</td>\n",
       "      <td>2.5</td>\n",
       "      <td>1040.0</td>\n",
       "      <td>676.0</td>\n",
       "      <td>28</td>\n",
       "      <td>79.99</td>\n",
       "    </tr>\n",
       "    <tr>\n",
       "      <th>1</th>\n",
       "      <td>540.0</td>\n",
       "      <td>0.0</td>\n",
       "      <td>0.0</td>\n",
       "      <td>162.0</td>\n",
       "      <td>2.5</td>\n",
       "      <td>1055.0</td>\n",
       "      <td>676.0</td>\n",
       "      <td>28</td>\n",
       "      <td>61.89</td>\n",
       "    </tr>\n",
       "    <tr>\n",
       "      <th>2</th>\n",
       "      <td>332.5</td>\n",
       "      <td>142.5</td>\n",
       "      <td>0.0</td>\n",
       "      <td>228.0</td>\n",
       "      <td>0.0</td>\n",
       "      <td>932.0</td>\n",
       "      <td>594.0</td>\n",
       "      <td>270</td>\n",
       "      <td>40.27</td>\n",
       "    </tr>\n",
       "    <tr>\n",
       "      <th>3</th>\n",
       "      <td>332.5</td>\n",
       "      <td>142.5</td>\n",
       "      <td>0.0</td>\n",
       "      <td>228.0</td>\n",
       "      <td>0.0</td>\n",
       "      <td>932.0</td>\n",
       "      <td>594.0</td>\n",
       "      <td>365</td>\n",
       "      <td>41.05</td>\n",
       "    </tr>\n",
       "    <tr>\n",
       "      <th>4</th>\n",
       "      <td>198.6</td>\n",
       "      <td>132.4</td>\n",
       "      <td>0.0</td>\n",
       "      <td>192.0</td>\n",
       "      <td>0.0</td>\n",
       "      <td>978.4</td>\n",
       "      <td>825.5</td>\n",
       "      <td>360</td>\n",
       "      <td>44.30</td>\n",
       "    </tr>\n",
       "  </tbody>\n",
       "</table>\n",
       "</div>"
      ],
      "text/plain": [
       "   Cement  Blast Furnace Slag  Fly Ash  Water  Superplasticizer  \\\n",
       "0   540.0                 0.0      0.0  162.0               2.5   \n",
       "1   540.0                 0.0      0.0  162.0               2.5   \n",
       "2   332.5               142.5      0.0  228.0               0.0   \n",
       "3   332.5               142.5      0.0  228.0               0.0   \n",
       "4   198.6               132.4      0.0  192.0               0.0   \n",
       "\n",
       "   Coarse Aggregate  Fine Aggregate  Age  Strength  \n",
       "0            1040.0           676.0   28     79.99  \n",
       "1            1055.0           676.0   28     61.89  \n",
       "2             932.0           594.0  270     40.27  \n",
       "3             932.0           594.0  365     41.05  \n",
       "4             978.4           825.5  360     44.30  "
      ]
     },
     "execution_count": 15,
     "metadata": {},
     "output_type": "execute_result"
    }
   ],
   "source": [
    "concrete_data = pd.read_csv('https://cocl.us/concrete_data')\n",
    "concrete_data.head()\n"
   ]
  },
  {
   "cell_type": "code",
   "execution_count": 16,
   "metadata": {},
   "outputs": [],
   "source": [
    "X_train, X_test, y_train, y_test = train_test_split(\n",
    "    concrete_data.iloc[:, :-1], concrete_data['Strength'], test_size=0.3, random_state=42)\n"
   ]
  },
  {
   "cell_type": "code",
   "execution_count": 17,
   "metadata": {},
   "outputs": [],
   "source": [
    "X_train_scaled = X_train.copy()\n",
    "X_train_scaled = (X_train_scaled - X_train_scaled.mean()) / X_train_scaled.std()\n",
    "\n",
    "X_test_scaled = X_test.copy()\n",
    "X_test_scaled = (X_test_scaled - X_test_scaled.mean()) / X_test_scaled.std()\n"
   ]
  },
  {
   "cell_type": "code",
   "execution_count": 18,
   "metadata": {},
   "outputs": [
    {
     "name": "stdout",
     "output_type": "stream",
     "text": [
      "Epoch 1/50\n",
      "23/23 [==============================] - 0s 1ms/step - loss: 1608.6509\n",
      "Epoch 2/50\n",
      "23/23 [==============================] - 0s 1ms/step - loss: 1593.9987\n",
      "Epoch 3/50\n",
      "23/23 [==============================] - 0s 2ms/step - loss: 1579.3949\n",
      "Epoch 4/50\n",
      "23/23 [==============================] - 0s 1ms/step - loss: 1564.8881\n",
      "Epoch 5/50\n",
      "23/23 [==============================] - 0s 2ms/step - loss: 1549.6824\n",
      "Epoch 6/50\n",
      "23/23 [==============================] - 0s 2ms/step - loss: 1534.1012\n",
      "Epoch 7/50\n",
      "23/23 [==============================] - 0s 2ms/step - loss: 1518.0156\n",
      "Epoch 8/50\n",
      "23/23 [==============================] - 0s 1ms/step - loss: 1500.9868\n",
      "Epoch 9/50\n",
      "23/23 [==============================] - 0s 2ms/step - loss: 1483.4930\n",
      "Epoch 10/50\n",
      "23/23 [==============================] - 0s 1ms/step - loss: 1465.0413\n",
      "Epoch 11/50\n",
      "23/23 [==============================] - 0s 2ms/step - loss: 1445.5629\n",
      "Epoch 12/50\n",
      "23/23 [==============================] - 0s 1ms/step - loss: 1425.0079\n",
      "Epoch 13/50\n",
      "23/23 [==============================] - 0s 1ms/step - loss: 1403.3458\n",
      "Epoch 14/50\n",
      "23/23 [==============================] - 0s 2ms/step - loss: 1380.5167\n",
      "Epoch 15/50\n",
      "23/23 [==============================] - 0s 2ms/step - loss: 1356.5796\n",
      "Epoch 16/50\n",
      "23/23 [==============================] - 0s 1ms/step - loss: 1331.3013\n",
      "Epoch 17/50\n",
      "23/23 [==============================] - 0s 2ms/step - loss: 1305.1525\n",
      "Epoch 18/50\n",
      "23/23 [==============================] - 0s 2ms/step - loss: 1277.6849\n",
      "Epoch 19/50\n",
      "23/23 [==============================] - 0s 1ms/step - loss: 1249.1890\n",
      "Epoch 20/50\n",
      "23/23 [==============================] - 0s 2ms/step - loss: 1219.6307\n",
      "Epoch 21/50\n",
      "23/23 [==============================] - 0s 2ms/step - loss: 1189.0232\n",
      "Epoch 22/50\n",
      "23/23 [==============================] - 0s 2ms/step - loss: 1157.3448\n",
      "Epoch 23/50\n",
      "23/23 [==============================] - 0s 2ms/step - loss: 1125.0735\n",
      "Epoch 24/50\n",
      "23/23 [==============================] - 0s 1ms/step - loss: 1092.2997\n",
      "Epoch 25/50\n",
      "23/23 [==============================] - 0s 2ms/step - loss: 1058.7750\n",
      "Epoch 26/50\n",
      "23/23 [==============================] - 0s 2ms/step - loss: 1025.1361\n",
      "Epoch 27/50\n",
      "23/23 [==============================] - 0s 1ms/step - loss: 990.5004\n",
      "Epoch 28/50\n",
      "23/23 [==============================] - 0s 1ms/step - loss: 956.3198\n",
      "Epoch 29/50\n",
      "23/23 [==============================] - 0s 1ms/step - loss: 921.1688\n",
      "Epoch 30/50\n",
      "23/23 [==============================] - 0s 2ms/step - loss: 886.7280\n",
      "Epoch 31/50\n",
      "23/23 [==============================] - 0s 2ms/step - loss: 852.1093\n",
      "Epoch 32/50\n",
      "23/23 [==============================] - 0s 1ms/step - loss: 817.5433\n",
      "Epoch 33/50\n",
      "23/23 [==============================] - 0s 1ms/step - loss: 783.4280\n",
      "Epoch 34/50\n",
      "23/23 [==============================] - 0s 1ms/step - loss: 749.9082\n",
      "Epoch 35/50\n",
      "23/23 [==============================] - 0s 1ms/step - loss: 717.1506\n",
      "Epoch 36/50\n",
      "23/23 [==============================] - 0s 1ms/step - loss: 684.6218\n",
      "Epoch 37/50\n",
      "23/23 [==============================] - 0s 1ms/step - loss: 653.7112\n",
      "Epoch 38/50\n",
      "23/23 [==============================] - 0s 1ms/step - loss: 622.8643\n",
      "Epoch 39/50\n",
      "23/23 [==============================] - 0s 1ms/step - loss: 593.7690\n",
      "Epoch 40/50\n",
      "23/23 [==============================] - 0s 1ms/step - loss: 565.5427\n",
      "Epoch 41/50\n",
      "23/23 [==============================] - 0s 2ms/step - loss: 538.7820\n",
      "Epoch 42/50\n",
      "23/23 [==============================] - 0s 1ms/step - loss: 512.7276\n",
      "Epoch 43/50\n",
      "23/23 [==============================] - 0s 1ms/step - loss: 488.5533\n",
      "Epoch 44/50\n",
      "23/23 [==============================] - 0s 1ms/step - loss: 465.9559\n",
      "Epoch 45/50\n",
      "23/23 [==============================] - 0s 2ms/step - loss: 444.3188\n",
      "Epoch 46/50\n",
      "23/23 [==============================] - 0s 1ms/step - loss: 424.1318\n",
      "Epoch 47/50\n",
      "23/23 [==============================] - 0s 2ms/step - loss: 405.6539\n",
      "Epoch 48/50\n",
      "23/23 [==============================] - 0s 2ms/step - loss: 388.1831\n",
      "Epoch 49/50\n",
      "23/23 [==============================] - 0s 2ms/step - loss: 372.2650\n",
      "Epoch 50/50\n",
      "23/23 [==============================] - 0s 2ms/step - loss: 357.3871\n"
     ]
    },
    {
     "data": {
      "text/plain": [
       "<keras.callbacks.History at 0x16a24925d88>"
      ]
     },
     "execution_count": 18,
     "metadata": {},
     "output_type": "execute_result"
    }
   ],
   "source": [
    "model = Sequential()\n",
    "model.add(Dense(10, input_shape=(8,), activation='relu'))\n",
    "model.add(Dense(1))\n",
    "\n",
    "model.compile(loss='mean_squared_error', optimizer='adam')\n",
    "\n",
    "model.fit(X_train_scaled, y_train, epochs=50)\n"
   ]
  },
  {
   "cell_type": "code",
   "execution_count": 19,
   "metadata": {},
   "outputs": [
    {
     "name": "stdout",
     "output_type": "stream",
     "text": [
      "10/10 [==============================] - 0s 1ms/step - loss: 314.4418\n"
     ]
    },
    {
     "data": {
      "text/plain": [
       "314.4418029785156"
      ]
     },
     "execution_count": 19,
     "metadata": {},
     "output_type": "execute_result"
    }
   ],
   "source": [
    "model.evaluate(X_test_scaled, y_test)\n"
   ]
  },
  {
   "cell_type": "code",
   "execution_count": 21,
   "metadata": {},
   "outputs": [
    {
     "name": "stdout",
     "output_type": "stream",
     "text": [
      "Mean: 314.44176213818645 STD: 0.0\n"
     ]
    }
   ],
   "source": [
    "y_pred = model.predict(X_test_scaled)\n",
    "mean_square_error = mean_squared_error(y_test, y_pred)\n",
    "mean = np.mean(mean_square_error)\n",
    "standard_deviation = np.std(mean_square_error)\n",
    "print(\"Mean: \" + str(mean), \"STD: \" + str(standard_deviation))\n"
   ]
  },
  {
   "cell_type": "code",
   "execution_count": 23,
   "metadata": {},
   "outputs": [
    {
     "name": "stdout",
     "output_type": "stream",
     "text": [
      "MSE 1: 35.31611633300781\n",
      "MSE 2: 40.31452560424805\n",
      "MSE 3: 34.49774932861328\n",
      "MSE 4: 38.61314392089844\n",
      "MSE 5: 49.09048080444336\n",
      "MSE 6: 43.47926330566406\n",
      "MSE 7: 54.528770446777344\n",
      "MSE 8: 33.16447067260742\n",
      "MSE 9: 40.221900939941406\n",
      "MSE 10: 38.73429870605469\n",
      "MSE 11: 38.74277114868164\n",
      "MSE 12: 37.70753479003906\n",
      "MSE 13: 40.44892883300781\n",
      "MSE 14: 38.8189582824707\n",
      "MSE 15: 31.11375617980957\n",
      "MSE 16: 32.5687141418457\n",
      "MSE 17: 40.798213958740234\n",
      "MSE 18: 41.387939453125\n",
      "MSE 19: 40.84016799926758\n",
      "MSE 20: 33.565494537353516\n",
      "MSE 21: 39.062713623046875\n",
      "MSE 22: 36.48253631591797\n",
      "MSE 23: 31.55087661743164\n",
      "MSE 24: 34.90302276611328\n",
      "MSE 25: 40.65003967285156\n",
      "MSE 26: 34.4162483215332\n",
      "MSE 27: 31.66857147216797\n",
      "MSE 28: 34.114715576171875\n",
      "MSE 29: 43.26493453979492\n",
      "MSE 30: 42.005638122558594\n",
      "MSE 31: 31.596731185913086\n",
      "MSE 32: 33.69770431518555\n",
      "MSE 33: 32.808631896972656\n",
      "MSE 34: 35.68002700805664\n",
      "MSE 35: 37.255348205566406\n",
      "MSE 36: 44.25294494628906\n",
      "MSE 37: 30.216699600219727\n",
      "MSE 38: 42.89488983154297\n",
      "MSE 39: 36.67435836791992\n",
      "MSE 40: 32.561004638671875\n",
      "MSE 41: 40.60512924194336\n",
      "MSE 42: 30.1627254486084\n",
      "MSE 43: 44.142425537109375\n",
      "MSE 44: 39.117069244384766\n",
      "MSE 45: 39.35159683227539\n",
      "MSE 46: 36.14337921142578\n",
      "MSE 47: 35.660919189453125\n",
      "MSE 48: 36.452903747558594\n",
      "MSE 49: 33.58614730834961\n",
      "MSE 50: 35.63224792480469\n",
      "\n",
      "\n",
      "Below is the mean and standard deviation of 50 mean squared errors with normalized data. Total number of epochs for each training is: 50\n",
      "\n",
      "Mean: 37.61130725815883\n",
      "Standard Deviation: 4.837790017679365\n"
     ]
    }
   ],
   "source": [
    "total_mean_squared_errors = 50\n",
    "epochs = 50\n",
    "mean_squared_errors = []\n",
    "for i in range(0, total_mean_squared_errors):\n",
    "    X_train, X_test, y_train, y_test = train_test_split(\n",
    "        concrete_data.iloc[:, :-1], concrete_data['Strength'], test_size=0.3, random_state=i)\n",
    "    X_train = (X_train - X_train.mean()) / X_train.std()\n",
    "    X_test = (X_test - X_test.mean()) / X_test.std()\n",
    "    model.fit(X_train, y_train, epochs=epochs, verbose=0)\n",
    "    MSE = model.evaluate(X_test, y_test, verbose=0)\n",
    "    print(\"MSE \"+str(i+1)+\": \"+str(MSE))\n",
    "    y_pred = model.predict(X_test)\n",
    "    mean_square_error = mean_squared_error(y_test, y_pred)\n",
    "    mean_squared_errors.append(mean_square_error)\n",
    "\n",
    "mean_squared_errors = np.array(mean_squared_errors)\n",
    "mean = np.mean(mean_squared_errors)\n",
    "standard_deviation = np.std(mean_squared_errors)\n",
    "\n",
    "print('\\n')\n",
    "print(\"Below is the mean and standard deviation of \" + str(total_mean_squared_errors) +\n",
    "      \" mean squared errors with normalized data. Total number of epochs for each training is: \" + str(epochs) + \"\\n\")\n",
    "print(\"Mean: \"+str(mean))\n",
    "print(\"Standard Deviation: \"+str(standard_deviation))\n"
   ]
  },
  {
   "cell_type": "markdown",
   "metadata": {},
   "source": [
    "<h4>The Mean and the standard deviation is smaller compared to the previous results without normalized data.<h4>"
   ]
  },
  {
   "cell_type": "code",
   "execution_count": null,
   "metadata": {},
   "outputs": [],
   "source": []
  }
 ],
 "metadata": {
  "interpreter": {
   "hash": "f04500d8b91e362b0082c4fdd322d5d5d9540d13200024b86d78e7daf6d8bf4b"
  },
  "kernelspec": {
   "display_name": "Python 3.7.6 64-bit ('base': conda)",
   "name": "python3"
  },
  "language_info": {
   "codemirror_mode": {
    "name": "ipython",
    "version": 3
   },
   "file_extension": ".py",
   "mimetype": "text/x-python",
   "name": "python",
   "nbconvert_exporter": "python",
   "pygments_lexer": "ipython3",
   "version": "3.7.6"
  },
  "orig_nbformat": 4
 },
 "nbformat": 4,
 "nbformat_minor": 2
}
